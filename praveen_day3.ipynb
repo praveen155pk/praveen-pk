{
 "cells": [
  {
   "cell_type": "code",
   "execution_count": 7,
   "metadata": {},
   "outputs": [
    {
     "name": "stdout",
     "output_type": "stream",
     "text": [
      "enter number=4\n",
      "enter the 2number=8\n",
      "the gcd is  4\n"
     ]
    }
   ],
   "source": [
    "def gcd(n,m):\n",
    "    list=[]\n",
    "    for i in range(1,13):\n",
    "        if n%i==0 and m%i==0:\n",
    "            list.append(i)\n",
    "    return max(list)\n",
    "n,m=int(input(\"enter number=\")),int(input(\"enter the 2number=\"))\n",
    "print(\"the gcd is \",gcd(n,m))\n",
    "\n",
    "\n"
   ]
  },
  {
   "cell_type": "markdown",
   "metadata": {},
   "source": [
    "## Today concepts\n",
    "- Dictionary\n",
    "- file handling\n",
    "- modules and packages"
   ]
  },
  {
   "cell_type": "code",
   "execution_count": 15,
   "metadata": {},
   "outputs": [
    {
     "name": "stdout",
     "output_type": "stream",
     "text": [
      "{'name': 'praveen', 'branch': 'csbs', 'year': '2nd year'}\n"
     ]
    }
   ],
   "source": [
    "dict={\"name\":\"praveen\",\"branch\":\"csbs\",\"year\":\"2nd year\"}\n",
    "\n",
    "print(dict,sep=\"\\n\")"
   ]
  },
  {
   "cell_type": "code",
   "execution_count": 13,
   "metadata": {},
   "outputs": [
    {
     "data": {
      "text/plain": [
       "'praveen'"
      ]
     },
     "execution_count": 13,
     "metadata": {},
     "output_type": "execute_result"
    }
   ],
   "source": [
    "dict[\"name\"]"
   ]
  },
  {
   "cell_type": "code",
   "execution_count": 17,
   "metadata": {},
   "outputs": [
    {
     "name": "stdout",
     "output_type": "stream",
     "text": [
      "name = praveen\n",
      "branch = csbs\n",
      "year = 2nd year\n"
     ]
    }
   ],
   "source": [
    "for i in dict:\n",
    "    print(i,\"=\",dict[i])"
   ]
  },
  {
   "cell_type": "code",
   "execution_count": 19,
   "metadata": {},
   "outputs": [
    {
     "name": "stdout",
     "output_type": "stream",
     "text": [
      "name\n",
      "branch\n",
      "year\n"
     ]
    }
   ],
   "source": [
    "for item in dict:\n",
    "    print(item)"
   ]
  },
  {
   "cell_type": "code",
   "execution_count": 20,
   "metadata": {},
   "outputs": [
    {
     "name": "stdout",
     "output_type": "stream",
     "text": [
      "praveen\n",
      "csbs\n",
      "2nd year\n"
     ]
    }
   ],
   "source": [
    "for key in dict:\n",
    "    print(dict[key])"
   ]
  },
  {
   "cell_type": "code",
   "execution_count": 23,
   "metadata": {},
   "outputs": [
    {
     "data": {
      "text/plain": [
       "{'name': 'praveen', 'branch': 'csbs', 'year': '2nd year'}"
      ]
     },
     "execution_count": 23,
     "metadata": {},
     "output_type": "execute_result"
    }
   ],
   "source": [
    "dict\n"
   ]
  },
  {
   "cell_type": "code",
   "execution_count": 25,
   "metadata": {},
   "outputs": [
    {
     "data": {
      "text/plain": [
       "{'name': 'praveen', 'branch': 'csbs', 'year': '2nd year', 'clg': 'RVR&jC'}"
      ]
     },
     "execution_count": 25,
     "metadata": {},
     "output_type": "execute_result"
    }
   ],
   "source": [
    "#adding new item to existing data\n",
    "dict['clg']=\"RVR&jC\"\n",
    "dict"
   ]
  },
  {
   "cell_type": "code",
   "execution_count": 29,
   "metadata": {},
   "outputs": [
    {
     "data": {
      "text/plain": [
       "{'name': 'praveen', 'branch': 'csbs', 'year': '2nd year', 'clg': 'RVR&jC'}"
      ]
     },
     "execution_count": 29,
     "metadata": {},
     "output_type": "execute_result"
    }
   ],
   "source": [
    "dict[\"name\"]=\"praveen\"\n",
    "dict"
   ]
  },
  {
   "cell_type": "code",
   "execution_count": 30,
   "metadata": {},
   "outputs": [
    {
     "data": {
      "text/plain": [
       "'praveen'"
      ]
     },
     "execution_count": 30,
     "metadata": {},
     "output_type": "execute_result"
    }
   ],
   "source": [
    "dict.get(\"name\")"
   ]
  },
  {
   "cell_type": "code",
   "execution_count": 32,
   "metadata": {},
   "outputs": [
    {
     "data": {
      "text/plain": [
       "'RVR&jC'"
      ]
     },
     "execution_count": 32,
     "metadata": {},
     "output_type": "execute_result"
    }
   ],
   "source": [
    "dict.pop(\"clg\")"
   ]
  },
  {
   "cell_type": "code",
   "execution_count": 33,
   "metadata": {},
   "outputs": [
    {
     "data": {
      "text/plain": [
       "{'name': 'praveen', 'branch': 'csbs', 'year': '2nd year'}"
      ]
     },
     "execution_count": 33,
     "metadata": {},
     "output_type": "execute_result"
    }
   ],
   "source": [
    "dict"
   ]
  },
  {
   "cell_type": "code",
   "execution_count": 34,
   "metadata": {},
   "outputs": [
    {
     "data": {
      "text/plain": [
       "('year', '2nd year')"
      ]
     },
     "execution_count": 34,
     "metadata": {},
     "output_type": "execute_result"
    }
   ],
   "source": [
    "dict.popitem()"
   ]
  },
  {
   "cell_type": "code",
   "execution_count": 36,
   "metadata": {},
   "outputs": [
    {
     "data": {
      "text/plain": [
       "{'name': 'praveen', 'branch': 'csbs'}"
      ]
     },
     "execution_count": 36,
     "metadata": {},
     "output_type": "execute_result"
    }
   ],
   "source": [
    "dict"
   ]
  },
  {
   "cell_type": "code",
   "execution_count": 37,
   "metadata": {},
   "outputs": [
    {
     "data": {
      "text/plain": [
       "{'name': 'praveen', 'branch': 'csbs', 1: 'one', 'st': 'dictionary'}"
      ]
     },
     "execution_count": 37,
     "metadata": {},
     "output_type": "execute_result"
    }
   ],
   "source": [
    "new={1:\"one\",\"st\":\"dictionary\"}\n",
    "dict.update(new)\n",
    "dict"
   ]
  },
  {
   "cell_type": "code",
   "execution_count": 38,
   "metadata": {},
   "outputs": [],
   "source": [
    "dict.update({\"king\":\"praveen\"})"
   ]
  },
  {
   "cell_type": "code",
   "execution_count": 39,
   "metadata": {},
   "outputs": [
    {
     "data": {
      "text/plain": [
       "{'name': 'praveen',\n",
       " 'branch': 'csbs',\n",
       " 1: 'one',\n",
       " 'st': 'dictionary',\n",
       " 'king': 'praveen'}"
      ]
     },
     "execution_count": 39,
     "metadata": {},
     "output_type": "execute_result"
    }
   ],
   "source": [
    "dict\n"
   ]
  },
  {
   "cell_type": "code",
   "execution_count": 2,
   "metadata": {},
   "outputs": [
    {
     "name": "stdout",
     "output_type": "stream",
     "text": [
      "    menu   \n",
      "briyani \t = 250 /-\n",
      "mutton \t = 450 /-\n",
      "prawns \t = 300 /-\n",
      "fish \t = 400 /-\n",
      "enter no. of items=2\n",
      "enter the item=k\n",
      "\n",
      " sorry sir not available order anythiong else \n",
      "\n",
      "enter the item=fish\n",
      "final bill= 400\n"
     ]
    }
   ],
   "source": [
    "print(\"    menu   \")\n",
    "dict={\"briyani\":250,\"mutton\":450,\"prawns\":300,\"fish\":400}\n",
    "for i in dict:\n",
    "    print(i,\"\\t\",\"=\",dict[i],\"/-\")\n",
    "n=int(input(\"enter no. of items=\"))\n",
    "bill=0\n",
    "for i in range(1,n+1):\n",
    "    i=input(\"enter the item=\")\n",
    "    if i in dict:\n",
    "        bill+=dict[i]\n",
    "    else:\n",
    "        print(\"\\n\",\"sorry sir not available order anythiong else\",\"\\n\")\n",
    "print(\"final bill=\",bill)"
   ]
  },
  {
   "cell_type": "code",
   "execution_count": 6,
   "metadata": {},
   "outputs": [
    {
     "name": "stdout",
     "output_type": "stream",
     "text": [
      "    contact application     \n",
      "1.add\n",
      "2.delete\n",
      "3.update\n",
      "4.display\n"
     ]
    }
   ],
   "source": [
    "print(\"    contact application     \")\n",
    "def add_contact(name,mb):\n",
    "    if name in dict:\n",
    "        print(\"already existed\")\n",
    "    else:\n",
    "        dict[name]=mb\n",
    "        print(dict)\n",
    "        print(\"sucessfully added\")\n",
    "    return\n",
    "def delete_contact(name):\n",
    "    if name in dict:\n",
    "        print(\"deleted contact is \",dict[name])\n",
    "        dict.pop(name)\n",
    "    else:\n",
    "        print(\"not available\")\n",
    "    return\n",
    "def update_contact(name):\n",
    "    if name in dict:\n",
    "        new=int(input(\"enter mobile number=\"))\n",
    "        dict[name]=new\n",
    "    else:\n",
    "        print(\"contact not available\")\n",
    "    return\n",
    "def display_contact():\n",
    "    for name in dict:\n",
    "        print(name,\"    :  \",dict[name])\n",
    "    return\n",
    "def search(name):\n",
    "    if name in dict:\n",
    "        print(name,\":\",dict[name])\n",
    "    else:\n",
    "        print(\"not found\")\n",
    "    return4\n",
    "\n",
    "print('1.add',\"2.delete\",\"3.update\",\"4.display\",sep=\"\\n\")\n",
    "dict={}\n",
    "\n",
    "\n",
    "    "
   ]
  },
  {
   "cell_type": "code",
   "execution_count": 42,
   "metadata": {},
   "outputs": [
    {
     "name": "stdout",
     "output_type": "stream",
     "text": [
      "jack the king\n",
      "king the jack\n",
      "jack and king are kings\n"
     ]
    }
   ],
   "source": [
    "file =open(\"first.txt\",\"r\")\n",
    "file=file.read()\n",
    "print(file)"
   ]
  },
  {
   "cell_type": "code",
   "execution_count": 40,
   "metadata": {},
   "outputs": [
    {
     "name": "stdout",
     "output_type": "stream",
     "text": [
      "jack the king\n",
      "king the jack\n",
      "jack and king are kings\n"
     ]
    }
   ],
   "source": [
    "with open(\"first.txt\",\"r\") as f:\n",
    "    f=f.read()\n",
    "    print(f)"
   ]
  },
  {
   "cell_type": "code",
   "execution_count": 45,
   "metadata": {},
   "outputs": [
    {
     "name": "stdout",
     "output_type": "stream",
     "text": [
      "['jack the king\\n', 'king the jack\\n', 'jack and king are kings']\n"
     ]
    }
   ],
   "source": [
    "data=open(\"first.txt\",\"r\")\n",
    "data=data.readlines()\n",
    "print(data)"
   ]
  },
  {
   "cell_type": "code",
   "execution_count": 3,
   "metadata": {},
   "outputs": [],
   "source": [
    "dict={}\n",
    "def add_contact(name,mb):\n",
    "    if name in dict:\n",
    "        print(\"already existed\")\n",
    "    else:\n",
    "        dict[name]=mb\n",
    "        print(dict)\n",
    "        print(\"sucessfully added\")\n",
    "    return\n",
    "def display_contact():\n",
    "    for name in dict:\n",
    "        print(name,\"    :  \",dict[name])\n"
   ]
  },
  {
   "cell_type": "code",
   "execution_count": 4,
   "metadata": {},
   "outputs": [
    {
     "name": "stdout",
     "output_type": "stream",
     "text": [
      "enter name=praveen\n",
      "enter mobile no=95579\n",
      "{'praveen': 95579}\n",
      "sucessfully added\n"
     ]
    }
   ],
   "source": [
    "add_contact(input(\"enter name=\"),int(input(\"enter mobile no=\")))"
   ]
  },
  {
   "cell_type": "code",
   "execution_count": 5,
   "metadata": {},
   "outputs": [
    {
     "name": "stdout",
     "output_type": "stream",
     "text": [
      "praveen     :   95579\n"
     ]
    }
   ],
   "source": [
    "display_contact()\n"
   ]
  },
  {
   "cell_type": "code",
   "execution_count": 7,
   "metadata": {},
   "outputs": [
    {
     "name": "stdout",
     "output_type": "stream",
     "text": [
      "    contact application     \n",
      "1.add\n",
      "2.delete\n",
      "3.update\n",
      "4.display\n"
     ]
    }
   ],
   "source": [
    "print(\"    contact application     \")\n",
    "def add_contact(name,mb):\n",
    "    if name in dict:\n",
    "        print(\"already existed\")\n",
    "    else:\n",
    "        dict[name]=mb\n",
    "        print(dict)\n",
    "        print(\"sucessfully added\")\n",
    "    return\n",
    "def delete_contact(name):\n",
    "    if name in dict:\n",
    "        print(\"deleted contact is \",dict[name])\n",
    "        dict.pop(name)\n",
    "    else:\n",
    "        print(\"not available\")\n",
    "    return\n",
    "def update_contact(name):\n",
    "    if name in dict:\n",
    "        new=int(input(\"enter mobile number=\"))\n",
    "        dict[name]=new\n",
    "    else:\n",
    "        print(\"contact not available\")\n",
    "    return\n",
    "def display_contact():\n",
    "    for name in dict:\n",
    "        print(name,\"    :  \",dict[name])\n",
    "    return\n",
    "def search(name):\n",
    "    if name in dict:\n",
    "        print(name,\":\",dict[name])\n",
    "    else:\n",
    "        print(\"not found\")\n",
    "    return4\n",
    "\n",
    "print('1.add',\"2.delete\",\"3.update\",\"4.display\",sep=\"\\n\")\n",
    "dict={}\n",
    "i=int(input(\"enter number=\")))"
   ]
  },
  {
   "cell_type": "code",
   "execution_count": 9,
   "metadata": {},
   "outputs": [
    {
     "name": "stdout",
     "output_type": "stream",
     "text": [
      "{'praveen': 781897}\n",
      "sucessfully added\n"
     ]
    }
   ],
   "source": [
    "add_contact(\"praveen\",781897)"
   ]
  },
  {
   "cell_type": "code",
   "execution_count": 14,
   "metadata": {},
   "outputs": [
    {
     "name": "stdout",
     "output_type": "stream",
     "text": [
      "enter name=dd\n",
      "enter number=641069\n",
      "{'praveen': 781897, 'rahaman': 781897, 'hh': 781897, 'dd': 641069}\n",
      "sucessfully added\n"
     ]
    }
   ],
   "source": [
    "add_contact(input(\"enter name=\"),int(input(\"enter number=\")))"
   ]
  },
  {
   "cell_type": "code",
   "execution_count": 15,
   "metadata": {},
   "outputs": [
    {
     "name": "stdout",
     "output_type": "stream",
     "text": [
      "praveen     :   781897\n",
      "rahaman     :   781897\n",
      "hh     :   781897\n",
      "dd     :   641069\n"
     ]
    }
   ],
   "source": [
    "display_contact()"
   ]
  },
  {
   "cell_type": "code",
   "execution_count": 19,
   "metadata": {},
   "outputs": [],
   "source": [
    "new=open(\"new.py\",\"w\")\n",
    "new.close()"
   ]
  },
  {
   "cell_type": "code",
   "execution_count": 21,
   "metadata": {},
   "outputs": [
    {
     "name": "stdout",
     "output_type": "stream",
     "text": [
      "data analysis workshop cinducted by APSSDC\n"
     ]
    }
   ],
   "source": [
    "pr=open(\"new.py\",\"r\")\n",
    "print(pr.read())"
   ]
  },
  {
   "cell_type": "code",
   "execution_count": 27,
   "metadata": {},
   "outputs": [],
   "source": [
    "pr=open(\"new.py\",\"w\")\n",
    "pr.write(\"praveen learning data analaysis\")\n",
    "pr.close()"
   ]
  },
  {
   "cell_type": "code",
   "execution_count": 28,
   "metadata": {},
   "outputs": [
    {
     "name": "stdout",
     "output_type": "stream",
     "text": [
      "praveen learning data analaysis\n"
     ]
    }
   ],
   "source": [
    "pr=open(\"new.py\",\"r\")\n",
    "pr=pr.read()\n",
    "print(pr)"
   ]
  },
  {
   "cell_type": "code",
   "execution_count": 34,
   "metadata": {},
   "outputs": [
    {
     "name": "stdout",
     "output_type": "stream",
     "text": [
      "praveen learning data analaysis\n",
      "praveen learning data analaysis\n",
      "praveen learning data analaysis\n",
      "praveen learning data analaysis\n",
      "praveen learning data analaysis \n",
      "praveen learning data analaysis \n",
      "praveen learning data analaysis \n",
      "\n"
     ]
    }
   ],
   "source": [
    "pr=open(\"new.py\",\"a\")\n",
    "pr.write(\"praveen learning data analaysis \\n\")\n",
    "pr.close()\n",
    "pr=open(\"new.py\",\"r\")\n",
    "pr=pr.read()\n",
    "print(pr)"
   ]
  },
  {
   "cell_type": "code",
   "execution_count": 35,
   "metadata": {},
   "outputs": [],
   "source": [
    "import math as m\n",
    "import random as a\n"
   ]
  },
  {
   "cell_type": "code",
   "execution_count": 36,
   "metadata": {},
   "outputs": [
    {
     "data": {
      "text/plain": [
       "['__doc__',\n",
       " '__loader__',\n",
       " '__name__',\n",
       " '__package__',\n",
       " '__spec__',\n",
       " 'acos',\n",
       " 'acosh',\n",
       " 'asin',\n",
       " 'asinh',\n",
       " 'atan',\n",
       " 'atan2',\n",
       " 'atanh',\n",
       " 'ceil',\n",
       " 'copysign',\n",
       " 'cos',\n",
       " 'cosh',\n",
       " 'degrees',\n",
       " 'e',\n",
       " 'erf',\n",
       " 'erfc',\n",
       " 'exp',\n",
       " 'expm1',\n",
       " 'fabs',\n",
       " 'factorial',\n",
       " 'floor',\n",
       " 'fmod',\n",
       " 'frexp',\n",
       " 'fsum',\n",
       " 'gamma',\n",
       " 'gcd',\n",
       " 'hypot',\n",
       " 'inf',\n",
       " 'isclose',\n",
       " 'isfinite',\n",
       " 'isinf',\n",
       " 'isnan',\n",
       " 'ldexp',\n",
       " 'lgamma',\n",
       " 'log',\n",
       " 'log10',\n",
       " 'log1p',\n",
       " 'log2',\n",
       " 'modf',\n",
       " 'nan',\n",
       " 'pi',\n",
       " 'pow',\n",
       " 'radians',\n",
       " 'remainder',\n",
       " 'sin',\n",
       " 'sinh',\n",
       " 'sqrt',\n",
       " 'tan',\n",
       " 'tanh',\n",
       " 'tau',\n",
       " 'trunc']"
      ]
     },
     "execution_count": 36,
     "metadata": {},
     "output_type": "execute_result"
    }
   ],
   "source": [
    "dir(m)"
   ]
  },
  {
   "cell_type": "code",
   "execution_count": 37,
   "metadata": {},
   "outputs": [
    {
     "name": "stdout",
     "output_type": "stream",
     "text": [
      "Help on built-in function factorial in module math:\n",
      "\n",
      "factorial(x, /)\n",
      "    Find x!.\n",
      "    \n",
      "    Raise a ValueError if x is negative or non-integral.\n",
      "\n"
     ]
    }
   ],
   "source": [
    "help(m.factorial)"
   ]
  },
  {
   "cell_type": "code",
   "execution_count": 38,
   "metadata": {},
   "outputs": [
    {
     "name": "stdout",
     "output_type": "stream",
     "text": [
      "120\n"
     ]
    }
   ],
   "source": [
    "print(m.factorial(5))"
   ]
  },
  {
   "cell_type": "code",
   "execution_count": 39,
   "metadata": {},
   "outputs": [
    {
     "name": "stdout",
     "output_type": "stream",
     "text": [
      "12\n"
     ]
    }
   ],
   "source": [
    "print(m.gcd(12,24))"
   ]
  },
  {
   "cell_type": "code",
   "execution_count": 45,
   "metadata": {},
   "outputs": [],
   "source": [
    "import contact as ct"
   ]
  },
  {
   "cell_type": "code",
   "execution_count": 46,
   "metadata": {},
   "outputs": [
    {
     "data": {
      "text/plain": [
       "['__builtins__',\n",
       " '__cached__',\n",
       " '__doc__',\n",
       " '__file__',\n",
       " '__loader__',\n",
       " '__name__',\n",
       " '__package__',\n",
       " '__spec__',\n",
       " 'add_contact',\n",
       " 'delete_contact',\n",
       " 'display_contact',\n",
       " 'search',\n",
       " 'update_contact']"
      ]
     },
     "execution_count": 46,
     "metadata": {},
     "output_type": "execute_result"
    }
   ],
   "source": [
    "dir(ct)"
   ]
  },
  {
   "cell_type": "code",
   "execution_count": 58,
   "metadata": {},
   "outputs": [
    {
     "name": "stdout",
     "output_type": "stream",
     "text": [
      "enter number=2\n",
      "enter the 2number=4\n",
      "the gcd is  2\n"
     ]
    }
   ],
   "source": [
    "def gcd(n,m):\n",
    "    list=[]\n",
    "    for i in range(1,13):\n",
    "        if n%i==0 and m%i==0:\n",
    "            list.append(i)\n",
    "    return max(list)\n",
    "n,m=int(input(\"enter number=\")),int(input(\"enter the 2number=\"))\n",
    "print(\"the gcd is \",gcd(n,m))"
   ]
  },
  {
   "cell_type": "code",
   "execution_count": 86,
   "metadata": {},
   "outputs": [
    {
     "name": "stdout",
     "output_type": "stream",
     "text": [
      "gnirts\n"
     ]
    },
    {
     "data": {
      "text/plain": [
       "<reversed at 0x1ec0c4c4400>"
      ]
     },
     "execution_count": 86,
     "metadata": {},
     "output_type": "execute_result"
    }
   ],
   "source": [
    "s=\"string\"\n",
    "print(s[::-1])\n",
    "reversed(\"string\")"
   ]
  },
  {
   "cell_type": "code",
   "execution_count": 99,
   "metadata": {},
   "outputs": [
    {
     "name": "stdout",
     "output_type": "stream",
     "text": [
      "g n i r t s "
     ]
    }
   ],
   "source": [
    "s=\"string\"\n",
    "i=len(s)-1\n",
    "while i!=-1:\n",
    "    print(s[i],end=\" \")\n",
    "    i-=1"
   ]
  },
  {
   "cell_type": "code",
   "execution_count": 105,
   "metadata": {},
   "outputs": [
    {
     "name": "stdout",
     "output_type": "stream",
     "text": [
      "enter string=one two three four five six seven\n",
      "eno owt eerht ruof evif xis neves "
     ]
    }
   ],
   "source": [
    "s=input(\"enter string=\").split()\n",
    "for ch in s:\n",
    "    print(ch[::-1],end=\" \")\n",
    "\n"
   ]
  },
  {
   "cell_type": "code",
   "execution_count": 112,
   "metadata": {},
   "outputs": [
    {
     "name": "stdout",
     "output_type": "stream",
     "text": [
      "enter string=one two three four five six seven\n",
      "one owt three ruof five xis seven "
     ]
    }
   ],
   "source": [
    "s=input(\"enter string=\").split()\n",
    "n=1\n",
    "for i in s:\n",
    "    if n%2==0:\n",
    "        print(i[::-1],end=\" \")\n",
    "    else:\n",
    "        print(i,end=\" \")\n",
    "    n+=1\n",
    "    "
   ]
  },
  {
   "cell_type": "code",
   "execution_count": 113,
   "metadata": {},
   "outputs": [
    {
     "name": "stdout",
     "output_type": "stream",
     "text": [
      "<re.Match object; span=(0, 1), match='a'>\n",
      "<re.Match object; span=(1, 1), match=''>\n",
      "<re.Match object; span=(2, 5), match='aaa'>\n",
      "<re.Match object; span=(5, 5), match=''>\n",
      "<re.Match object; span=(6, 8), match='aa'>\n",
      "<re.Match object; span=(8, 8), match=''>\n",
      "<re.Match object; span=(9, 10), match='a'>\n",
      "<re.Match object; span=(10, 10), match=''>\n"
     ]
    }
   ],
   "source": [
    "import re \n",
    "m=re.finditer('a*','abaaabaaba')\n",
    "for i in m:\n",
    "    print(i)"
   ]
  },
  {
   "cell_type": "code",
   "execution_count": 15,
   "metadata": {},
   "outputs": [
    {
     "name": "stdout",
     "output_type": "stream",
     "text": [
      "enter=2a3c5s\n",
      "aacccsssss"
     ]
    }
   ],
   "source": [
    "p=input(\"enter=\")\n",
    "l=[]\n",
    "k=[]\n",
    "digit=[\"0\",\"1\",\"2\",\"3\",\"4\",\"5\",\"6\",\"7\",\"8\",\"9\"]\n",
    "for i in range(0,len(p)):\n",
    "    if p[i] in digit:\n",
    "        ch=p[i]\n",
    "        l.append(ch)\n",
    "    else:\n",
    "        ch=p[i]\n",
    "        k.append(ch)\n",
    "for i in range(0,len(l)):\n",
    "    print(int(l[i])*k[i],end=\"\")\n",
    "\n"
   ]
  },
  {
   "cell_type": "code",
   "execution_count": null,
   "metadata": {},
   "outputs": [],
   "source": []
  }
 ],
 "metadata": {
  "kernelspec": {
   "display_name": "Python 3",
   "language": "python",
   "name": "python3"
  },
  "language_info": {
   "codemirror_mode": {
    "name": "ipython",
    "version": 3
   },
   "file_extension": ".py",
   "mimetype": "text/x-python",
   "name": "python",
   "nbconvert_exporter": "python",
   "pygments_lexer": "ipython3",
   "version": "3.7.0"
  }
 },
 "nbformat": 4,
 "nbformat_minor": 2
}
