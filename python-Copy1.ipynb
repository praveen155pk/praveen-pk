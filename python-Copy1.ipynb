{
 "cells": [
  {
   "cell_type": "code",
   "execution_count": 4,
   "metadata": {},
   "outputs": [
    {
     "name": "stdout",
     "output_type": "stream",
     "text": [
      "enter the amount=9826\n",
      "Rs 2000 = 4\n",
      "Rs 500 = 3\n",
      "Rs 200 = 1\n",
      "Rs 100 = 1\n",
      "Rs 20 = 1\n",
      "Rs 5 = 1\n",
      "Rs 1 = 1\n"
     ]
    }
   ],
   "source": [
    "amount=int(input(\"enter the amount=\"))\n",
    "dict={}\n",
    "l=[2000,500,200,100,50,20,10,5,2,1]\n",
    "for i in l:\n",
    "    if amount>=i:\n",
    "        q=amount//i\n",
    "        amount=amount-q*i\n",
    "        dict[i]=q\n",
    "for j in dict:\n",
    "    print(\"Rs\",j,\"=\",dict[j])\n",
    "    \n",
    "        "
   ]
  },
  {
   "cell_type": "code",
   "execution_count": 23,
   "metadata": {},
   "outputs": [
    {
     "name": "stdout",
     "output_type": "stream",
     "text": [
      "enter password=praveen1555@.pk\n",
      "encrpyted password = sudyhhq4888C1sn\n",
      "decrpyted password= praveen1555@.pk\n"
     ]
    }
   ],
   "source": [
    "passd=input(\"enter password=\")\n",
    "en=\"\"\n",
    "de=\"\"\n",
    "for ch in passd:\n",
    "    en=en+chr(ord(ch)+3)\n",
    "for j in en:\n",
    "    de=de+chr(ord(j)-3)\n",
    "print(\"encrpyted password =\",en)\n",
    "print(\"decrpyted password=\",de)\n"
   ]
  },
  {
   "cell_type": "code",
   "execution_count": 25,
   "metadata": {},
   "outputs": [
    {
     "name": "stdout",
     "output_type": "stream",
     "text": [
      "enter temperature=35\n",
      "35 celsius = 95.0 fahrenheit = 308 kelvin\n"
     ]
    }
   ],
   "source": [
    "cel=int(input(\"enter temperature=\"))\n",
    "farh=9/5*cel+32\n",
    "kel=cel+273\n",
    "print(cel,\"celsius\",\"=\",farh,\"fahrenheit\",\"=\",kel,\"kelvin\")"
   ]
  },
  {
   "cell_type": "code",
   "execution_count": 8,
   "metadata": {},
   "outputs": [
    {
     "name": "stdout",
     "output_type": "stream",
     "text": [
      "CS98\n",
      "CO&A88\n",
      "FLAG78\n",
      "DBMS98\n",
      "OOPS95\n",
      "SL94\n",
      "CGPA= 9.5\n"
     ]
    }
   ],
   "source": [
    "sub=['CS','CO&A','FLAG','DBMS','OOPS','SL']\n",
    "sum=0\n",
    "dict={}\n",
    "k={'CS':3.0,'CO&A':3.0,'FLAG':3.0,'DBMS':3.0,'OOPS':3.0,'SL':3.0}\n",
    "for i in sub:\n",
    "    dict[i]=int(input(i))\n",
    "    grade=(dict[i]//10)+1\n",
    "    sum=sum+((grade*k[i])/k[i])\n",
    "cgpa=sum/6\n",
    "print(\"CGPA=\",cgpa)\n",
    "    "
   ]
  },
  {
   "cell_type": "code",
   "execution_count": null,
   "metadata": {},
   "outputs": [],
   "source": [
    "sen=input(\"enter sentence=\")\n",
    "word=input(\"enter word to search=\")\n",
    "sum=0\n",
    "wl=len(word)\n",
    "for ch in range(len(sen)-len(word)+1):\n",
    "    if word==sen[ch:wl]:\n",
    "        sum=sum+1 \n",
    "    wl=wl+1\n",
    "print(\"the word\",word.upper(),\"=\",sum)\n",
    "\n",
    "\n"
   ]
  },
  {
   "cell_type": "code",
   "execution_count": 9,
   "metadata": {},
   "outputs": [
    {
     "name": "stdout",
     "output_type": "stream",
     "text": [
      "enter numerator=3\n",
      "enter denominator=2\n",
      "mixed fraction= 1 1 / 2\n"
     ]
    }
   ],
   "source": [
    "num=int(input(\"enter numerator=\"))\n",
    "den=int(input(\"enter denominator=\"))\n",
    "q=num//den\n",
    "r=num%den\n",
    "print(\"mixed fraction=\",q,r,\"/\",den)"
   ]
  },
  {
   "cell_type": "code",
   "execution_count": 27,
   "metadata": {},
   "outputs": [
    {
     "name": "stdout",
     "output_type": "stream",
     "text": [
      "enter number=1\n",
      "enter number=2\n",
      "enter number=3\n",
      "enter number for 2=4\n",
      "enter number for 2=5\n",
      "enter number for 2=6\n",
      "enter number=4\n",
      "enter number=5\n",
      "enter number=6\n",
      "enter number for 2=7\n",
      "enter number for 2=8\n",
      "enter number for 2=9\n",
      "enter number=1\n",
      "enter number=2\n",
      "enter number=3\n",
      "enter number for 2=4\n",
      "enter number for 2=5\n",
      "enter number for 2=6\n",
      "[1, 2, 3]\t[4, 5, 6]\n",
      "[4, 5, 6]\t[7, 8, 9]\n",
      "[1, 2, 3]\t[4, 5, 6]\n",
      "\n",
      "\n",
      "[5, 7, 9]\n",
      "[11, 13, 15]\n",
      "[5, 7, 9]\n",
      "[[5, 7, 9], [11, 13, 15], [5, 7, 9]]\n"
     ]
    }
   ],
   "source": [
    "l=[]\n",
    "k=[]\n",
    "m=[]\n",
    "for i in range(3):\n",
    "    for j in range(3):\n",
    "        k.append(int(input(\"enter number=\")))\n",
    "    l.append(k)\n",
    "    k=[]\n",
    "    for p in range(3):\n",
    "        k.append(int(input(\"enter number for 2=\")))\n",
    "    m.append(k)\n",
    "    k=[]\n",
    "for i in range(3):\n",
    "    print(l[i],m[i],sep=\"\\t\")\n",
    "temp=[]\n",
    "add=[]\n",
    "for i in range(3):\n",
    "    for j in range(3):\n",
    "        temp.append(l[i][j]+m[i][j])\n",
    "    add.append(temp)\n",
    "    temp=[]\n",
    "print(\"\\n\")\n",
    "for i in range(3):\n",
    "    print(add[i])\n",
    "        "
   ]
  },
  {
   "cell_type": "code",
   "execution_count": 1,
   "metadata": {},
   "outputs": [
    {
     "name": "stdout",
     "output_type": "stream",
     "text": [
      "enter number=1 2 3 4 5 6 7 8 9\n",
      "enter number=1 2 3 4 5 6 7 8 9\n",
      "first matrix\tsecond matrix\n",
      "[1 2 3]\t\t[1 2 3]\n",
      "[4 5 6]\t\t[4 5 6]\n",
      "[7 8 9]\t\t[7 8 9]\n",
      "addition\n",
      "[[ 2  4  6]\n",
      " [ 8 10 12]\n",
      " [14 16 18]]\n",
      "subtraction\n",
      "[[0 0 0]\n",
      " [0 0 0]\n",
      " [0 0 0]]\n",
      "multiplication\n",
      "[[ 30  36  42]\n",
      " [ 66  81  96]\n",
      " [102 126 150]]\n"
     ]
    }
   ],
   "source": [
    "import numpy as np\n",
    "l=list(map(int,input(\"enter number=\").split(\" \")))\n",
    "k=list(map(int,input(\"enter number=\").split(\" \")))\n",
    "l=np.array(l).reshape(3,3)\n",
    "k=np.array(k).reshape(3,3)\n",
    "print(\"first matrix\",\"second matrix\",sep=\"\\t\")\n",
    "for i in range(3):\n",
    "    print(l[i],k[i],sep=\"\\t\\t\")\n",
    "add=np.add(l,k)\n",
    "sub=np.subtract(l,k)\n",
    "mul=np.matmul(l,k)\n",
    "print(\"addition\",add,\"subtraction\",sub,\"multiplication\",mul,sep=\"\\n\")\n",
    "\n",
    "\n",
    "\n",
    "\n",
    "    "
   ]
  },
  {
   "cell_type": "code",
   "execution_count": 69,
   "metadata": {},
   "outputs": [
    {
     "name": "stdout",
     "output_type": "stream",
     "text": [
      "      Name  RollNo  year\n",
      "1  praveen      60     2\n",
      "2  rahaman      42     2\n",
      "3   balaji      16     3\n",
      "4     Yuvi      36     4\n",
      "5  Avinash      20     3\n"
     ]
    },
    {
     "data": {
      "text/html": [
       "<div>\n",
       "<style scoped>\n",
       "    .dataframe tbody tr th:only-of-type {\n",
       "        vertical-align: middle;\n",
       "    }\n",
       "\n",
       "    .dataframe tbody tr th {\n",
       "        vertical-align: top;\n",
       "    }\n",
       "\n",
       "    .dataframe thead th {\n",
       "        text-align: right;\n",
       "    }\n",
       "</style>\n",
       "<table border=\"1\" class=\"dataframe\">\n",
       "  <thead>\n",
       "    <tr style=\"text-align: right;\">\n",
       "      <th></th>\n",
       "      <th>Name</th>\n",
       "      <th>RollNo</th>\n",
       "      <th>year</th>\n",
       "    </tr>\n",
       "  </thead>\n",
       "  <tbody>\n",
       "    <tr>\n",
       "      <th>1</th>\n",
       "      <td>praveen</td>\n",
       "      <td>60</td>\n",
       "      <td>2</td>\n",
       "    </tr>\n",
       "    <tr>\n",
       "      <th>2</th>\n",
       "      <td>rahaman</td>\n",
       "      <td>42</td>\n",
       "      <td>2</td>\n",
       "    </tr>\n",
       "    <tr>\n",
       "      <th>3</th>\n",
       "      <td>balaji</td>\n",
       "      <td>16</td>\n",
       "      <td>3</td>\n",
       "    </tr>\n",
       "    <tr>\n",
       "      <th>4</th>\n",
       "      <td>Yuvi</td>\n",
       "      <td>36</td>\n",
       "      <td>4</td>\n",
       "    </tr>\n",
       "    <tr>\n",
       "      <th>5</th>\n",
       "      <td>ok</td>\n",
       "      <td>22</td>\n",
       "      <td>2</td>\n",
       "    </tr>\n",
       "  </tbody>\n",
       "</table>\n",
       "</div>"
      ],
      "text/plain": [
       "      Name  RollNo  year\n",
       "1  praveen      60     2\n",
       "2  rahaman      42     2\n",
       "3   balaji      16     3\n",
       "4     Yuvi      36     4\n",
       "5       ok      22     2"
      ]
     },
     "execution_count": 69,
     "metadata": {},
     "output_type": "execute_result"
    }
   ],
   "source": [
    "import pandas as pd\n",
    "pk=pd.DataFrame({\"Name\":[\"praveen\",\"rahaman\",\"balaji\",\"Yuvi\",\"Avinash\"],\n",
    "                \"RollNo\":[60,42,16,36,20],\n",
    "                \"year\":[2,2,3,4,3]})\n",
    "pk.index=[1,2,3,4,5]\n",
    "print(pk)\n",
    "pk.loc[len(pk)]=[\"ok\",22,2]"
   ]
  },
  {
   "cell_type": "code",
   "execution_count": null,
   "metadata": {},
   "outputs": [],
   "source": [
    "##pandas\n",
    "##Series\n",
    "##DataFrame##loc[]->to get specfied row\n",
    "##read_csv()->to load the CSV file\n",
    "##to_string()->to get full df\n",
    "##head()\n",
    "##tail()\n",
    "##pd.dropna()->removes rows contains null   If you want to change the original DataFrame, use the inplace = True argument:\n",
    "##The fillna() method allows us to replace empty cells with a value: df.fillna(130, inplace = True)\n",
    "## row adding->df.append(df2,ignore_index=True)(or)df.loc[len(df)]=['values',..]\n",
    "##merge->pd.merge(df1,df2, on=\"common columnname\")"
   ]
  },
  {
   "cell_type": "code",
   "execution_count": 76,
   "metadata": {},
   "outputs": [
    {
     "name": "stdout",
     "output_type": "stream",
     "text": [
      "Index(['Duration', 'Pulse', 'Maxpulse', 'Calories'], dtype='object')\n",
      "1860.4\n",
      "[63.84615384615385, 107.46153846153847, 134.0473372781065, 375.79024390243916]\n"
     ]
    }
   ],
   "source": [
    "import pandas as pd\n",
    "df = pd.read_csv('data.csv')\n",
    "print(df.columns)\n",
    "print(df[\"Calories\"].max())\n",
    "l=[]\n",
    "for i in df.columns:\n",
    "    l.append(df[i].mean())\n",
    "print(l)\n",
    "df.loc[len(df)]=l\n",
    "\n",
    "    \n"
   ]
  },
  {
   "cell_type": "code",
   "execution_count": null,
   "metadata": {},
   "outputs": [],
   "source": []
  }
 ],
 "metadata": {
  "kernelspec": {
   "display_name": "Python 3",
   "language": "python",
   "name": "python3"
  },
  "language_info": {
   "codemirror_mode": {
    "name": "ipython",
    "version": 3
   },
   "file_extension": ".py",
   "mimetype": "text/x-python",
   "name": "python",
   "nbconvert_exporter": "python",
   "pygments_lexer": "ipython3",
   "version": "3.8.5"
  }
 },
 "nbformat": 4,
 "nbformat_minor": 4
}
