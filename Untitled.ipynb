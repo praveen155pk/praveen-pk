{
 "cells": [
  {
   "cell_type": "code",
   "execution_count": 9,
   "metadata": {},
   "outputs": [
    {
     "name": "stdout",
     "output_type": "stream",
     "text": [
      "Index(['Duration', 'Pulse', 'Maxpulse', 'Calories'], dtype='object')\n",
      "1860.4\n",
      "[63.84615384615385, 107.46153846153847, 134.0473372781065, 375.79024390243916]\n"
     ]
    }
   ],
   "source": [
    "import pandas as pd\n",
    "df = pd.read_csv('data.csv')\n",
    "print(df.columns)\n",
    "print(df[\"Calories\"].max())\n",
    "l=[]\n",
    "for i in df.columns:\n",
    "    l.append(df[i].mean())\n",
    "print(l)\n",
    "#adding row in df\n",
    "df.loc[5]=l\n",
    "\n",
    "\n",
    "    "
   ]
  },
  {
   "cell_type": "code",
   "execution_count": 117,
   "metadata": {},
   "outputs": [
    {
     "name": "stdout",
     "output_type": "stream",
     "text": [
      "      Name  Rollno  year  marks\n",
      "0  praveen      60   2.0   95.0\n",
      "1  rahaman      42   2.0   98.0\n",
      "2   balaji      16   NaN   96.0\n",
      "3   dileep      10   3.0   94.0\n",
      "4   nithin      15   NaN    NaN\n",
      "      Name  CS  CO&A  DBMS\n",
      "0  praveen  98    92    98\n",
      "1  rahaman  97    93   100\n",
      "2   balaji  96    94   100\n",
      "3   dileep  95    95   100\n",
      "4   nithin  94    96   100\n",
      "5     yuvi  96    97   100\n",
      "merging\n",
      "\n",
      "      Name branch  Rollno  year  marks  Grade  CS  CO&A  DBMS\n",
      "0  praveen   csbs      60   2.0   95.0     10  98    92    98\n",
      "1  rahaman   csbs      42   2.0   98.0     10  97    93   100\n",
      "2   balaji   csbs      16   6.0   96.0     10  96    94   100\n",
      "3   dileep   csbs      10   3.0   92.0     10  95    95   100\n",
      "4   nithin    cse      15   6.0    6.0     10  94    96   100\n",
      "5     yuvi     it      36   3.0   96.0     10  96    97   100\n",
      "concat\n",
      "\n",
      "      Name branch  Rollno  year  marks  Grade     Name  CS  CO&A  DBMS\n",
      "0  praveen   csbs      60   2.0   95.0     10  praveen  98    92    98\n",
      "1  rahaman   csbs      42   2.0   98.0     10  rahaman  97    93   100\n",
      "2   balaji   csbs      16   6.0   96.0     10   balaji  96    94   100\n",
      "3   dileep   csbs      10   3.0   92.0     10   dileep  95    95   100\n",
      "4   nithin    cse      15   6.0    6.0     10   nithin  94    96   100\n",
      "5     yuvi     it      36   3.0   96.0     10     yuvi  96    97   100\n",
      "remove duplicates in cloumn\n",
      "\n",
      "      Name branch Rollno year marks Grade  CS CO&A DBMS\n",
      "0  praveen   csbs     60    2    95    10  98   92   98\n",
      "1  rahaman   csbs     42    2    98    10  97   93  100\n",
      "2   balaji   csbs     16    6    96    10  96   94  100\n",
      "3   dileep   csbs     10    3    92    10  95   95  100\n",
      "4   nithin    cse     15    6     6    10  94   96  100\n",
      "5     yuvi     it     36    3    96    10  96   97  100\n",
      "row duplicates remove\n",
      "      Name branch Rollno year marks Grade  CS CO&A DBMS\n",
      "0  praveen   csbs     60    2    95    10  98   92   98\n",
      "1  rahaman   csbs     42    2    98    10  97   93  100\n",
      "2   balaji   csbs     16    6    96    10  96   94  100\n",
      "3   dileep   csbs     10    3    92    10  95   95  100\n",
      "4   nithin    cse     15    6     6    10  94   96  100\n",
      "5     yuvi     it     36    3    96    10  96   97  100\n"
     ]
    }
   ],
   "source": [
    "import pandas as pd\n",
    "import numpy as np\n",
    "dataset={\"Name\":[\"praveen\",\"rahaman\",\"balaji\",\"dileep\",\"nithin\"],\n",
    "        \"Rollno\":[60,42,16,10,15],\n",
    "        \"year\":[2,2,np.NaN,3,np.NaN],\n",
    "        \"marks\":[95,98,96,94,np.NaN]}\n",
    "dataset2={\"CS\":[98,97,96,95,94,96],\n",
    "         \"CO&A\":[92,93,94,95,96,97],\n",
    "         \"DBMS\":[98,100,100,100,100,100]}\n",
    "df=pd.DataFrame(dataset)\n",
    "import pandas as pd\n",
    "import numpy as np\n",
    "dataset={\"Name\":[\"praveen\",\"rahaman\",\"balaji\",\"dileep\",\"nithin\"],\n",
    "        \"Rollno\":[60,42,16,10,15],\n",
    "        \"year\":[2,2,np.NaN,3,np.NaN],\n",
    "        \"marks\":[95,98,96,94,np.NaN]}\n",
    "dataset2={\"Name\":[\"praveen\",\"rahaman\",\"balaji\",\"dileep\",\"nithin\",\"yuvi\"],\n",
    "          \"CS\":[98,97,96,95,94,96],\n",
    "         \"CO&A\":[92,93,94,95,96,97],\n",
    "         \"DBMS\":[98,100,100,100,100,100]}\n",
    "df=pd.DataFrame(dataset)\n",
    "df2=pd.DataFrame(dataset2)\n",
    "print(df)\n",
    "print(df2)\n",
    "#replacing value in dataset\n",
    "df.loc[3,\"marks\"]=92\n",
    "#adding row\n",
    "df.loc[len(df)]=[\"yuvi\",36,3,96]\n",
    "#adding column\n",
    "df[\"Grade\"]=[10,10,10,10,10,10]\n",
    "#adding column at specific\n",
    "df.insert(1,\"branch\",[\"csbs\",\"csbs\",\"csbs\",\"csbs\",\"cse\",\"it\"])\n",
    "#filling data in null value place\n",
    "df.fillna(6,inplace=True)\n",
    "#adding prefix to column names\n",
    "pk=df.add_prefix(\"FULL_\")\n",
    "pk\n",
    "#merging\n",
    "print(\"merging\\n\")\n",
    "print(df.merge(df2))\n",
    "#concating\n",
    "print(\"concat\\n\")\n",
    "df3=pd.concat([df,df2],axis=1,ignore_index=False)\n",
    "print(df3)\n",
    "df4=df3\n",
    "#removing duplicates in column\n",
    "print(\"remove duplicates in cloumn\\n\")\n",
    "df4=df4.T.drop_duplicates().T\n",
    "print(df4)\n",
    "#removing duplicates in rows\n",
    "print(\"row duplicates remove\")\n",
    "df4.loc[len(df4)]=[\"rahaman\",\"csbs\",42,2,98,10,97,93,100]\n",
    "df4=df4.drop_duplicates()\n",
    "print(df4)\n",
    "\n",
    "\n",
    "\n"
   ]
  },
  {
   "cell_type": "code",
   "execution_count": 129,
   "metadata": {},
   "outputs": [],
   "source": [
    "import pandas as pd\n",
    "df=pd.read_csv(\"data.CSV\")\n"
   ]
  },
  {
   "cell_type": "code",
   "execution_count": null,
   "metadata": {},
   "outputs": [],
   "source": []
  }
 ],
 "metadata": {
  "kernelspec": {
   "display_name": "Python 3",
   "language": "python",
   "name": "python3"
  },
  "language_info": {
   "codemirror_mode": {
    "name": "ipython",
    "version": 3
   },
   "file_extension": ".py",
   "mimetype": "text/x-python",
   "name": "python",
   "nbconvert_exporter": "python",
   "pygments_lexer": "ipython3",
   "version": "3.8.5"
  }
 },
 "nbformat": 4,
 "nbformat_minor": 4
}
