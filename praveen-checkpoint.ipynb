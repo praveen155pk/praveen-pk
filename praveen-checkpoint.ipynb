{
 "cells": [
  {
   "cell_type": "code",
   "execution_count": 3,
   "id": "47bc85ce",
   "metadata": {},
   "outputs": [
    {
     "name": "stdout",
     "output_type": "stream",
     "text": [
      "enter lower value=1\n",
      "enter upper value=100\n",
      "[6, 28]\n"
     ]
    }
   ],
   "source": [
    "# prepare a list of perfect no.s present a range\n",
    "def perfect(n):\n",
    "    sum=0\n",
    "    for i in range(1,n//2+1):\n",
    "        if n%i==0:\n",
    "            sum+=i\n",
    "    if sum==n:\n",
    "        return True\n",
    "    else:\n",
    "        return False\n",
    "list=[]\n",
    "def perfect_range(lw,up):\n",
    "    for num in range(lw,up+1):\n",
    "        if perfect(num):\n",
    "            list.append(num)\n",
    "lw,up=int(input(\"enter lower value=\")),int(input(\"enter upper value=\"))\n",
    "perfect_range(lw,up)\n",
    "print(list)\n"
   ]
  },
  {
   "cell_type": "code",
   "execution_count": 16,
   "id": "92010ede",
   "metadata": {},
   "outputs": [
    {
     "data": {
      "text/plain": [
       "600"
      ]
     },
     "execution_count": 16,
     "metadata": {},
     "output_type": "execute_result"
    }
   ],
   "source": [
    "# finding second largest number without sorting\n",
    "def large(L):\n",
    "    max=L[0]\n",
    "    for n in L:\n",
    "        if n>max:\n",
    "            max=n\n",
    "    slarge=L[0]\n",
    "    for n in L:\n",
    "        if n>slarge and n<max:\n",
    "            slarge=n\n",
    "    return slarge\n",
    "L=[250,203,1000,300,600,599,222]\n",
    "large(L)\n",
    "        \n",
    "    \n",
    "        "
   ]
  },
  {
   "cell_type": "code",
   "execution_count": 33,
   "id": "ce47ff5b",
   "metadata": {},
   "outputs": [
    {
     "name": "stdout",
     "output_type": "stream",
     "text": [
      "2 a 3 b 4 x 5 d "
     ]
    }
   ],
   "source": [
    "l=\"aabbbxxxxddddd\"\n",
    "print(l.count(\"a\"),\"a\",end=\" \")\n",
    "print(l.count(\"b\"),\"b\",end=\" \")\n",
    "print(l.count(\"x\"),\"x\",end=\" \")\n",
    "print(l.count(\"d\"),\"d\",end=\" \")"
   ]
  },
  {
   "cell_type": "code",
   "execution_count": 2,
   "id": "3c56cdb7",
   "metadata": {},
   "outputs": [
    {
     "name": "stdout",
     "output_type": "stream",
     "text": [
      "enter any number=5\n",
      "* * * * * \n",
      "* * * * * \n",
      "* * * * * \n",
      "* * * * * \n",
      "* * * * * \n"
     ]
    }
   ],
   "source": [
    "#printing patterns using while loop\n",
    "n=int(input(\"enter any number=\"))\n",
    "i=1\n",
    "while i<=n:\n",
    "    j=1\n",
    "    while j<=n:\n",
    "        print(\"*\",end=\" \")\n",
    "        j=j+1\n",
    "    print()\n",
    "    i=i+1"
   ]
  },
  {
   "cell_type": "code",
   "execution_count": 1,
   "id": "d47b851e",
   "metadata": {},
   "outputs": [
    {
     "name": "stdout",
     "output_type": "stream",
     "text": [
      "enter any number=5\n",
      "* \n",
      "* * \n",
      "* * * \n",
      "* * * * \n",
      "* * * * * \n"
     ]
    }
   ],
   "source": [
    "#printing patterns using while loop\n",
    "n=int(input(\"enter any number=\"))\n",
    "i=1\n",
    "while i<=n:\n",
    "    j=1\n",
    "    while j<=i:\n",
    "        print(\"*\",end=\" \")\n",
    "        j=j+1\n",
    "    print()\n",
    "    i=i+1"
   ]
  },
  {
   "cell_type": "code",
   "execution_count": 2,
   "id": "d73f615a",
   "metadata": {},
   "outputs": [
    {
     "name": "stdout",
     "output_type": "stream",
     "text": [
      "enter any number=5\n",
      "* * * * * \n",
      "* * * * \n",
      "* * * \n",
      "* * \n",
      "* \n"
     ]
    }
   ],
   "source": [
    "#printing patterns using while loop\n",
    "n=int(input(\"enter any number=\"))\n",
    "i=n\n",
    "while i>=1:\n",
    "    j=1\n",
    "    while j<=i:\n",
    "        print(\"*\",end=\" \")\n",
    "        j=j+1\n",
    "    print()\n",
    "    i-=1"
   ]
  },
  {
   "cell_type": "code",
   "execution_count": 2,
   "id": "b09e7566",
   "metadata": {},
   "outputs": [
    {
     "name": "stdout",
     "output_type": "stream",
     "text": [
      "enter lower value=1\n",
      "enter upper value=20\n",
      "prime number are:1 2 3 5 7 11 13 17 19 "
     ]
    }
   ],
   "source": [
    "# print the prime no.s present in a range\n",
    "lw,up=int(input(\"enter lower value=\")),int(input(\"enter upper value=\"))\n",
    "i=lw\n",
    "print(\"prime number are\",end=\":\")\n",
    "while i<=up:\n",
    "    flag=0\n",
    "    j=2\n",
    "    while j<i:\n",
    "        if i%j==0:\n",
    "            flag=1\n",
    "            break\n",
    "        j+=1\n",
    "    if flag==0:\n",
    "        print(i,end=\" \")\n",
    "    i+=1"
   ]
  },
  {
   "cell_type": "code",
   "execution_count": 3,
   "id": "63320fa6",
   "metadata": {},
   "outputs": [
    {
     "name": "stdout",
     "output_type": "stream",
     "text": [
      "enter lower value=1\n",
      "enter upper value=20\n",
      "prime number are:1 2 3 5 7 11 13 17 19 "
     ]
    }
   ],
   "source": [
    "# print the prime no.s present in a range using for in while\n",
    "lw,up=int(input(\"enter lower value=\")),int(input(\"enter upper value=\"))\n",
    "i=lw\n",
    "print(\"prime number are\",end=\":\")\n",
    "while i<=up:\n",
    "    flag=0\n",
    "    for j in range(2,i):\n",
    "        if i%j==0:\n",
    "            flag=1\n",
    "            break\n",
    "    if flag==0:\n",
    "        print(i,end=\" \")\n",
    "    i+=1\n",
    "        "
   ]
  },
  {
   "cell_type": "code",
   "execution_count": null,
   "id": "940749ee",
   "metadata": {},
   "outputs": [],
   "source": []
  }
 ],
 "metadata": {
  "kernelspec": {
   "display_name": "Python 3 (ipykernel)",
   "language": "python",
   "name": "python3"
  },
  "language_info": {
   "codemirror_mode": {
    "name": "ipython",
    "version": 3
   },
   "file_extension": ".py",
   "mimetype": "text/x-python",
   "name": "python",
   "nbconvert_exporter": "python",
   "pygments_lexer": "ipython3",
   "version": "3.9.7"
  }
 },
 "nbformat": 4,
 "nbformat_minor": 5
}
